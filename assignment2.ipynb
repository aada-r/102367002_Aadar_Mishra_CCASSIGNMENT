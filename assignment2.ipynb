{
 "cells": [
  {
   "cell_type": "markdown",
   "metadata": {},
   "source": [
    "# Assignment 2"
   ]
  },
  {
   "cell_type": "markdown",
   "metadata": {},
   "source": [
    "#### Create a List L that is defined as [10, 20, 30, 40, 50, 60, 70, 80] i. WAP to add 200 and 300 to L. ii. WAP to remove 10 and 30 from L. iii. WAP to sort L in ascending order. iv. WAP to sort L in descending order."
   ]
  },
  {
   "cell_type": "code",
   "execution_count": 5,
   "metadata": {},
   "outputs": [
    {
     "name": "stdout",
     "output_type": "stream",
     "text": [
      "[10, 20, 30, 40, 50, 60, 70, 80, 200, 300]\n",
      "[20, 40, 50, 60, 70, 80, 200, 300]\n",
      "ascending: [20, 40, 50, 60, 70, 80, 200, 300]\n",
      "descending: [300, 200, 80, 70, 60, 50, 40, 20]\n"
     ]
    }
   ],
   "source": [
    "\n",
    "l=[10,20,30,40,50,60,70,80]\n",
    "l.append(200)\n",
    "l.append(300)\n",
    "print(l)\n",
    "l.remove(10)\n",
    "l.remove(30)\n",
    "print(l)\n",
    "l.sort()\n",
    "print(\"ascending:\",l)\n",
    "l.sort(reverse=True)\n",
    "print(\"descending:\",l)\n",
    "\n",
    "\n",
    "\n"
   ]
  },
  {
   "cell_type": "markdown",
   "metadata": {},
   "source": [
    "#### 2.Create a tuple of marks scored as scores = (45, 89.5, 76, 45.4, 89, 92, 58, 45) and perform the following operations using tuple functions: i. Identify the highest score and its index in the tuple. ii. Find the lowest score and count how many times it appears. iii. Reverse the tuple and return it as a list. iv. Check if a specific score ‘76’ (input by the user) is present in the tuple and print its first occurrence index, or a message saying it’s not present."
   ]
  },
  {
   "cell_type": "code",
   "execution_count": 4,
   "metadata": {},
   "outputs": [
    {
     "name": "stdout",
     "output_type": "stream",
     "text": [
      "highest: 92 index: 5\n",
      "lowest: 45 count: 2\n",
      "reversed: [45, 58, 92, 89, 45.4, 76, 89.5, 45]\n",
      "index of 76 : 2\n"
     ]
    }
   ],
   "source": [
    "sc=(45,89.5,76,45.4,89,92,58,45)\n",
    "h=max(sc)\n",
    "print(\"highest:\",h,\"index:\",sc.index(h))\n",
    "l=min(sc)\n",
    "cnt=sc.count(l)\n",
    "print(\"lowest:\",l,\"count:\",cnt)\n",
    "rev=list(sc[::-1])\n",
    "print(\"reversed:\",rev)\n",
    "x=76\n",
    "if x in sc:\n",
    "    print(\"index of\",x,\":\",sc.index(x))\n",
    "else:\n",
    "    print(x,\"not found\")\n"
   ]
  },
  {
   "cell_type": "markdown",
   "metadata": {},
   "source": [
    "#### 3. WAP to create a list of 100 random numbers between 100 and 900. Count and print the: i. All odd numbers ii. All even numbers iii. All prime numbers"
   ]
  },
  {
   "cell_type": "code",
   "execution_count": 3,
   "metadata": {},
   "outputs": [
    {
     "name": "stdout",
     "output_type": "stream",
     "text": [
      "odd: [473, 357, 389, 547, 191, 885, 273, 423, 309, 165, 447, 197, 467, 597, 507, 777, 131, 483, 611, 761, 835, 245, 613, 489, 721, 593, 427, 395, 129, 411, 647, 461, 273, 127, 131, 735, 437, 505, 435, 599, 275, 791, 409, 531, 669, 343]\n",
      "even: [580, 274, 488, 718, 696, 762, 870, 208, 122, 644, 164, 614, 842, 550, 782, 794, 758, 206, 270, 332, 804, 866, 274, 866, 374, 488, 854, 538, 508, 856, 586, 846, 534, 294, 850, 314, 382, 166, 220, 880, 346, 120, 220, 380, 644, 196, 348, 174, 330, 450, 220, 218, 842, 518]\n",
      "prime: [389, 547, 191, 197, 467, 131, 761, 613, 593, 647, 461, 127, 131, 599, 409]\n"
     ]
    }
   ],
   "source": [
    "import random\n",
    "n=[random.randint(100,900) for i in range(100)]\n",
    "o=[i for i in n if i%2!=0]\n",
    "print(\"odd:\",o)\n",
    "e=[i for i in n if i%2==0]\n",
    "print(\"even:\",e)\n",
    "p=[]\n",
    "for i in n:\n",
    "    if i>1:\n",
    "        f=1\n",
    "        for j in range(2,i):\n",
    "            if i%j==0:\n",
    "                f=0\n",
    "                break\n",
    "        if f==1:\n",
    "            p.append(i)\n",
    "print(\"prime:\",p)\n"
   ]
  },
  {
   "cell_type": "markdown",
   "metadata": {},
   "source": [
    "#### 4. . Consider the following two sets, A and B, representing scores of two teams in multiple matches. A = {34, 56, 78, 90} and B = {78, 45, 90, 23} WAP to perform the following operations using set functions: i. Find the unique scores achieved by both teams (union of sets). ii. Identify the scores that are common to both teams (intersection of sets). iii. Find the scores that are exclusive to each team (symmetric difference). iv. Check if the scores of team A are a subset of team B, and if team B's scores are a superset of team A. v. Remove a specific score X (input by the user) from set A if it exists. If not, print a message saying it is not present.\n",
    "\n"
   ]
  },
  {
   "cell_type": "code",
   "execution_count": 4,
   "metadata": {},
   "outputs": [
    {
     "name": "stdout",
     "output_type": "stream",
     "text": [
      "Unique scores: {34, 45, 78, 23, 56, 90}\n",
      "Common scores: {90, 78}\n",
      "Exclusive scores: {34, 45, 23, 56}\n",
      "Is A a subset of B? False\n",
      "Is B a superset of A? False\n",
      "Score not in A\n"
     ]
    }
   ],
   "source": [
    "a={34,56,78,90}\n",
    "b={78,45,90,23}\n",
    "print(\"unique:\",a|b)\n",
    "print(\"common:\",a&b)\n",
    "print(\"exclusive:\",a^b)\n",
    "print(\"is a subset of b:\",a<=b)\n",
    "print(\"is b superset of a:\",b>=a)\n",
    "x=int(input(\"enter value to remove:\"))\n",
    "if x in a:\n",
    "    a.remove(x)\n",
    "    print(\"updated a:\",a)\n",
    "else:\n",
    "    print(\"not in a\")\n"
   ]
  },
  {
   "cell_type": "markdown",
   "metadata": {},
   "source": [
    "#### 5. Write a program to rename a key city to a location in the following dictionary. Given:\n",
    "\n",
    "sample_dict={\n",
    "    \"name\": \"Kelly\",\n",
    "    \"age\": 25,\n",
    "    \"salary\": 8000,\n",
    "    \"city\": \"New York\"\n",
    "}\n",
    "Expected Output: {'name': 'Kelly', 'age': 25, 'salary': 8000, 'location': 'New York'}"
   ]
  },
  {
   "cell_type": "code",
   "execution_count": 2,
   "metadata": {},
   "outputs": [
    {
     "name": "stdout",
     "output_type": "stream",
     "text": [
      "{'name': 'Kelly', 'age': 25, 'salary': 8000, 'location': 'New York'}\n"
     ]
    }
   ],
   "source": [
    "sample_dict={\n",
    "    \"name\": \"Kelly\",\n",
    "    \"age\": 25,\n",
    "    \"salary\": 8000,\n",
    "    \"city\": \"New York\"\n",
    "}\n",
    "sample_dict[\"location\"] = sample_dict.pop(\"city\")\n",
    "print(sample_dict)"
   ]
  }
 ],
 "metadata": {
  "kernelspec": {
   "display_name": "Python 3",
   "language": "python",
   "name": "python3"
  },
  "language_info": {
   "codemirror_mode": {
    "name": "ipython",
    "version": 3
   },
   "file_extension": ".py",
   "mimetype": "text/x-python",
   "name": "python",
   "nbconvert_exporter": "python",
   "pygments_lexer": "ipython3",
   "version": "3.13.1"
  }
 },
 "nbformat": 4,
 "nbformat_minor": 2
}
