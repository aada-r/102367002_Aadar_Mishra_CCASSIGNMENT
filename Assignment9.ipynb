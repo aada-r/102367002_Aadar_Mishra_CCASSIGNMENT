{
  "nbformat": 4,
  "nbformat_minor": 0,
  "metadata": {
    "colab": {
      "provenance": [],
      "include_colab_link": true
    },
    "kernelspec": {
      "name": "python3",
      "display_name": "Python 3"
    },
    "language_info": {
      "name": "python"
    }
  },
  "cells": [
    {
      "cell_type": "markdown",
      "metadata": {
        "id": "view-in-github",
        "colab_type": "text"
      },
      "source": [
        "<a href=\"https://colab.research.google.com/github/aada-r/102367002_Aadar_Mishra_CCASSIGNMENT/blob/main/Assignment9.ipynb\" target=\"_parent\"><img src=\"https://colab.research.google.com/assets/colab-badge.svg\" alt=\"Open In Colab\"/></a>"
      ]
    },
    {
      "cell_type": "markdown",
      "source": [
        "## Q1. Write a unique paragraph (5-6 sentences) about your favorite topic (e.g., sports,\n",
        "technology, food, books, etc.).\n",
        "1. Convert text to lowercase and remove punctuaƟon.\n",
        "2. Tokenize the text into words and sentences.\n",
        "3. Remove stopwords (using NLTK's stopwords list).\n",
        "4. Display word frequency distribuƟon (excluding stopwords).\n"
      ],
      "metadata": {
        "id": "JEE8tB30qlIV"
      }
    },
    {
      "cell_type": "code",
      "execution_count": 42,
      "metadata": {
        "colab": {
          "base_uri": "https://localhost:8080/"
        },
        "id": "RbeTv9RUqemc",
        "outputId": "5956e213-2a1e-475e-a6a0-30ac2ec3b939"
      },
      "outputs": [
        {
          "output_type": "stream",
          "name": "stdout",
          "text": [
            "food brings people together and offers a delicious way to explore different cultures and traditions \n",
            "from italian pizzas to indian curries every dish tells a story in 2023 global food trends shifted—more focus on plantbased diets  sustainability \n",
            "chefshome are experimenting with flavors sweet sour spicy and umami remember good food  good mood \n",
            "try grandma’s 100yearold pickles  — they’re legendary\n"
          ]
        }
      ],
      "source": [
        "import string\n",
        "text = \"\"\"Food brings people together and offers a delicious way to explore different cultures and traditions.\n",
        "From Italian *pizzas* to Indian curries, every dish tells a story! In 2023, global food trends shifted—more focus on plant-based diets & sustainability.\n",
        "Chefs@home are experimenting with flavors: sweet, sour, spicy, and umami. Remember: \"Good food = good mood!\"\n",
        "Try Grandma’s 100-year-old pickles  — they’re legendary!!!\"\"\"\n",
        "\n",
        "\n",
        "# Convert to lowercase\n",
        "text_lower = text.lower()\n",
        "\n",
        "# Remove punctuation\n",
        "text_no_punct = text_lower.translate(str.maketrans('', '', string.punctuation))\n",
        "\n",
        "print(text_no_punct)\n"
      ]
    },
    {
      "cell_type": "code",
      "source": [
        "import nltk\n",
        "nltk.download('punkt')\n"
      ],
      "metadata": {
        "colab": {
          "base_uri": "https://localhost:8080/"
        },
        "id": "jKh4O_ozrXMp",
        "outputId": "440e7295-46db-4d8a-db84-5874196d1a7d"
      },
      "execution_count": 43,
      "outputs": [
        {
          "output_type": "stream",
          "name": "stderr",
          "text": [
            "[nltk_data] Downloading package punkt to /root/nltk_data...\n",
            "[nltk_data]   Package punkt is already up-to-date!\n"
          ]
        },
        {
          "output_type": "execute_result",
          "data": {
            "text/plain": [
              "True"
            ]
          },
          "metadata": {},
          "execution_count": 43
        }
      ]
    },
    {
      "cell_type": "code",
      "source": [
        "nltk.download('punkt_tab')"
      ],
      "metadata": {
        "colab": {
          "base_uri": "https://localhost:8080/"
        },
        "id": "kdE5yDKzrwRm",
        "outputId": "c776a8e5-0ba6-488a-cd63-7f9cf44ca2cd"
      },
      "execution_count": 44,
      "outputs": [
        {
          "output_type": "stream",
          "name": "stderr",
          "text": [
            "[nltk_data] Downloading package punkt_tab to /root/nltk_data...\n",
            "[nltk_data]   Package punkt_tab is already up-to-date!\n"
          ]
        },
        {
          "output_type": "execute_result",
          "data": {
            "text/plain": [
              "True"
            ]
          },
          "metadata": {},
          "execution_count": 44
        }
      ]
    },
    {
      "cell_type": "code",
      "source": [
        "from nltk.tokenize import word_tokenize, sent_tokenize\n",
        "\n",
        "# Tokenize into words\n",
        "words = word_tokenize(text_no_punct)\n",
        "\n",
        "# Tokenize into sentences\n",
        "sentences = sent_tokenize(text_no_punct)\n",
        "\n",
        "print(words)\n",
        "print(sentences)"
      ],
      "metadata": {
        "colab": {
          "base_uri": "https://localhost:8080/"
        },
        "id": "TyGQ6GISrmtj",
        "outputId": "9db63dc9-81ef-49fc-e125-c92540b9bfdf"
      },
      "execution_count": 45,
      "outputs": [
        {
          "output_type": "stream",
          "name": "stdout",
          "text": [
            "['food', 'brings', 'people', 'together', 'and', 'offers', 'a', 'delicious', 'way', 'to', 'explore', 'different', 'cultures', 'and', 'traditions', 'from', 'italian', 'pizzas', 'to', 'indian', 'curries', 'every', 'dish', 'tells', 'a', 'story', 'in', '2023', 'global', 'food', 'trends', 'shifted—more', 'focus', 'on', 'plantbased', 'diets', 'sustainability', 'chefshome', 'are', 'experimenting', 'with', 'flavors', 'sweet', 'sour', 'spicy', 'and', 'umami', 'remember', 'good', 'food', 'good', 'mood', 'try', 'grandma', '’', 's', '100yearold', 'pickles', '—', 'they', '’', 're', 'legendary']\n",
            "['food brings people together and offers a delicious way to explore different cultures and traditions \\nfrom italian pizzas to indian curries every dish tells a story in 2023 global food trends shifted—more focus on plantbased diets  sustainability \\nchefshome are experimenting with flavors sweet sour spicy and umami remember good food  good mood \\ntry grandma’s 100yearold pickles  — they’re legendary']\n"
          ]
        }
      ]
    },
    {
      "cell_type": "code",
      "source": [
        "nltk.download('stopwords')\n",
        "from nltk.corpus import stopwords\n",
        "\n",
        "# Remove stopwords\n",
        "stop_words = set(stopwords.words('english'))\n",
        "filtered_words = [word for word in words if word not in stop_words]\n",
        "\n",
        "print(filtered_words)"
      ],
      "metadata": {
        "colab": {
          "base_uri": "https://localhost:8080/"
        },
        "id": "K6_8oAdkr4l6",
        "outputId": "f45822a5-c1eb-4047-ac26-25fdb1fc2bbd"
      },
      "execution_count": 46,
      "outputs": [
        {
          "output_type": "stream",
          "name": "stdout",
          "text": [
            "['food', 'brings', 'people', 'together', 'offers', 'delicious', 'way', 'explore', 'different', 'cultures', 'traditions', 'italian', 'pizzas', 'indian', 'curries', 'every', 'dish', 'tells', 'story', '2023', 'global', 'food', 'trends', 'shifted—more', 'focus', 'plantbased', 'diets', 'sustainability', 'chefshome', 'experimenting', 'flavors', 'sweet', 'sour', 'spicy', 'umami', 'remember', 'good', 'food', 'good', 'mood', 'try', 'grandma', '’', '100yearold', 'pickles', '—', '’', 'legendary']\n"
          ]
        },
        {
          "output_type": "stream",
          "name": "stderr",
          "text": [
            "[nltk_data] Downloading package stopwords to /root/nltk_data...\n",
            "[nltk_data]   Package stopwords is already up-to-date!\n"
          ]
        }
      ]
    },
    {
      "cell_type": "code",
      "source": [
        "from nltk.probability import FreqDist\n",
        "\n",
        "# Frequency distribution\n",
        "fdist = FreqDist(filtered_words)\n",
        "\n",
        "# Display the frequency distribution\n",
        "fdist.plot(20, title=\"Word Frequency Distribution\")\n"
      ],
      "metadata": {
        "colab": {
          "base_uri": "https://localhost:8080/",
          "height": 541
        },
        "id": "W17QwNBYsXDQ",
        "outputId": "488946dd-6ebd-443a-b691-fa52b5573442"
      },
      "execution_count": 47,
      "outputs": [
        {
          "output_type": "execute_result",
          "data": {
            "text/plain": [
              "<Axes: title={'center': 'Word Frequency Distribution'}, xlabel='Samples', ylabel='Counts'>"
            ]
          },
          "metadata": {},
          "execution_count": 47
        },
        {
          "output_type": "display_data",
          "data": {
            "text/plain": [
              "<Figure size 640x480 with 1 Axes>"
            ],
            "image/png": "[encoded data removed]"
          },
          "metadata": {}
        }
      ]
    },
    {
      "cell_type": "markdown",
      "source": [
        "Q2: Stemming and Lemmatization\n",
        "1. Take the tokenized words from Question 1 (after stopword removal).\n",
        "2. Apply stemming using NLTK's PorterStemmer and LancasterStemmer.\n",
        "3. Apply lemmatization using NLTK's WordNetLemmatizer.\n",
        "4. Compare and display results of both techniques.\n"
      ],
      "metadata": {
        "id": "r2t0AI9-s4_0"
      }
    },
    {
      "cell_type": "code",
      "source": [
        "filtered_words"
      ],
      "metadata": {
        "colab": {
          "base_uri": "https://localhost:8080/"
        },
        "id": "7ZEDssy8s5-c",
        "outputId": "13c8f922-6f23-4afb-cf55-909408eedc9d"
      },
      "execution_count": 48,
      "outputs": [
        {
          "output_type": "execute_result",
          "data": {
            "text/plain": [
              "['food',\n",
              " 'brings',\n",
              " 'people',\n",
              " 'together',\n",
              " 'offers',\n",
              " 'delicious',\n",
              " 'way',\n",
              " 'explore',\n",
              " 'different',\n",
              " 'cultures',\n",
              " 'traditions',\n",
              " 'italian',\n",
              " 'pizzas',\n",
              " 'indian',\n",
              " 'curries',\n",
              " 'every',\n",
              " 'dish',\n",
              " 'tells',\n",
              " 'story',\n",
              " '2023',\n",
              " 'global',\n",
              " 'food',\n",
              " 'trends',\n",
              " 'shifted—more',\n",
              " 'focus',\n",
              " 'plantbased',\n",
              " 'diets',\n",
              " 'sustainability',\n",
              " 'chefshome',\n",
              " 'experimenting',\n",
              " 'flavors',\n",
              " 'sweet',\n",
              " 'sour',\n",
              " 'spicy',\n",
              " 'umami',\n",
              " 'remember',\n",
              " 'good',\n",
              " 'food',\n",
              " 'good',\n",
              " 'mood',\n",
              " 'try',\n",
              " 'grandma',\n",
              " '’',\n",
              " '100yearold',\n",
              " 'pickles',\n",
              " '—',\n",
              " '’',\n",
              " 'legendary']"
            ]
          },
          "metadata": {},
          "execution_count": 48
        }
      ]
    },
    {
      "cell_type": "code",
      "source": [
        "from nltk.stem import PorterStemmer,LancasterStemmer\n",
        "\n",
        "ps=PorterStemmer()\n",
        "ls=LancasterStemmer()\n",
        "\n",
        "porter_stemmed=[ps.stem(word) for word in filtered_words]\n",
        "lancaster_stemmed=[ls.stem(word) for word in filtered_words]\n",
        "\n",
        "print(porter_stemmed)\n",
        "print(lancaster_stemmed)"
      ],
      "metadata": {
        "colab": {
          "base_uri": "https://localhost:8080/"
        },
        "id": "o7f0wDLitXs0",
        "outputId": "7892774d-81e7-4153-88be-f2bc0c84f552"
      },
      "execution_count": 49,
      "outputs": [
        {
          "output_type": "stream",
          "name": "stdout",
          "text": [
            "['food', 'bring', 'peopl', 'togeth', 'offer', 'delici', 'way', 'explor', 'differ', 'cultur', 'tradit', 'italian', 'pizza', 'indian', 'curri', 'everi', 'dish', 'tell', 'stori', '2023', 'global', 'food', 'trend', 'shifted—mor', 'focu', 'plantbas', 'diet', 'sustain', 'chefshom', 'experi', 'flavor', 'sweet', 'sour', 'spici', 'umami', 'rememb', 'good', 'food', 'good', 'mood', 'tri', 'grandma', '’', '100yearold', 'pickl', '—', '’', 'legendari']\n",
            "['food', 'bring', 'peopl', 'togeth', 'off', 'delicy', 'way', 'expl', 'diff', 'cult', 'tradit', 'it', 'pizza', 'ind', 'curry', 'every', 'dish', 'tel', 'story', '2023', 'glob', 'food', 'trend', 'shifted—more', 'foc', 'plantbas', 'diet', 'sustain', 'chefshom', 'expery', 'flav', 'sweet', 'sour', 'spicy', 'umam', 'rememb', 'good', 'food', 'good', 'mood', 'try', 'grandm', '’', '100yearold', 'pickl', '—', '’', 'legend']\n"
          ]
        }
      ]
    },
    {
      "cell_type": "code",
      "source": [
        "from nltk.stem import WordNetLemmatizer\n",
        "nltk.download('wordnet')\n",
        "\n",
        "lemmatizer=WordNetLemmatizer()\n",
        "\n",
        "lemmatized_words=[lemmatizer.lemmatize(word) for word in filtered_words]\n",
        "\n",
        "print(lemmatized_words)"
      ],
      "metadata": {
        "colab": {
          "base_uri": "https://localhost:8080/"
        },
        "id": "zdGdAB6-t5Mz",
        "outputId": "24823e9b-3654-49ac-82f4-04c89f6fd780"
      },
      "execution_count": 50,
      "outputs": [
        {
          "output_type": "stream",
          "name": "stdout",
          "text": [
            "['food', 'brings', 'people', 'together', 'offer', 'delicious', 'way', 'explore', 'different', 'culture', 'tradition', 'italian', 'pizza', 'indian', 'curry', 'every', 'dish', 'tell', 'story', '2023', 'global', 'food', 'trend', 'shifted—more', 'focus', 'plantbased', 'diet', 'sustainability', 'chefshome', 'experimenting', 'flavor', 'sweet', 'sour', 'spicy', 'umami', 'remember', 'good', 'food', 'good', 'mood', 'try', 'grandma', '’', '100yearold', 'pickle', '—', '’', 'legendary']\n"
          ]
        },
        {
          "output_type": "stream",
          "name": "stderr",
          "text": [
            "[nltk_data] Downloading package wordnet to /root/nltk_data...\n",
            "[nltk_data]   Package wordnet is already up-to-date!\n"
          ]
        }
      ]
    },
    {
      "cell_type": "markdown",
      "source": [
        "Q3. Regular Expressions and Text Spliting\n",
        "1. Take their original text from Question 1.\n",
        "2. Use regular expressions to:\n",
        "a. Extract all words with more than 5 leƩers.\n",
        "b. Extract all numbers (if any exist in their text).\n",
        "c. Extract all capitalized words.\n",
        "3. Use text spliting techniques to:\n",
        "a. Split the text into words containing only alphabets (removing digits and special\n",
        "characters).\n",
        "b. Extract words starting with a vowel."
      ],
      "metadata": {
        "id": "BwRxdHaCuhhN"
      }
    },
    {
      "cell_type": "code",
      "source": [
        "text = \"\"\"Food brings people together and offers a delicious way to explore different cultures and traditions.\n",
        "From Italian *pizzas* to Indian curries, every dish tells a story! In 2023, global food trends shifted—more focus on plant-based diets & sustainability.\n",
        "Chefs@home are experimenting with flavors: sweet, sour, spicy, and umami. Remember: \"Good food = good mood!\"\n",
        "Try Grandma’s 100-year-old pickles  — they’re legendary!!!\"\"\"\n"
      ],
      "metadata": {
        "id": "seuhD10cupXd"
      },
      "execution_count": 51,
      "outputs": []
    },
    {
      "cell_type": "code",
      "source": [
        "import re"
      ],
      "metadata": {
        "id": "z4maICYUuvd0"
      },
      "execution_count": 52,
      "outputs": []
    },
    {
      "cell_type": "code",
      "source": [
        "words_more_than_5 = re.findall(r'\\b\\w{6,}\\b', text)\n",
        "print(\"Words with more than 5 letters:\", words_more_than_5)\n"
      ],
      "metadata": {
        "colab": {
          "base_uri": "https://localhost:8080/"
        },
        "id": "R_EDhQIbuzvy",
        "outputId": "fccfd5d8-ede8-4621-d2ce-206f719c229c"
      },
      "execution_count": 53,
      "outputs": [
        {
          "output_type": "stream",
          "name": "stdout",
          "text": [
            "Words with more than 5 letters: ['brings', 'people', 'together', 'offers', 'delicious', 'explore', 'different', 'cultures', 'traditions', 'Italian', 'pizzas', 'Indian', 'curries', 'global', 'trends', 'shifted', 'sustainability', 'experimenting', 'flavors', 'Remember', 'Grandma', 'pickles', 'legendary']\n"
          ]
        }
      ]
    },
    {
      "cell_type": "code",
      "source": [
        "numbers = re.findall(r'\\b\\d+\\b', text)\n",
        "print(\"Numbers:\", numbers)\n"
      ],
      "metadata": {
        "colab": {
          "base_uri": "https://localhost:8080/"
        },
        "id": "UT2h0mkevB-X",
        "outputId": "d965a2bc-533b-41ec-a420-a72fbc7f9b31"
      },
      "execution_count": 54,
      "outputs": [
        {
          "output_type": "stream",
          "name": "stdout",
          "text": [
            "Numbers: ['2023', '100']\n"
          ]
        }
      ]
    },
    {
      "cell_type": "code",
      "source": [
        "capitalized_words = re.findall(r'\\b[A-Z][a-z]*\\b', text)\n",
        "print(\"Capitalized Words:\", capitalized_words)\n"
      ],
      "metadata": {
        "colab": {
          "base_uri": "https://localhost:8080/"
        },
        "id": "VsRyIcDnvE_g",
        "outputId": "dda61250-1ae9-42c3-f6c4-62a46c2b5e30"
      },
      "execution_count": 55,
      "outputs": [
        {
          "output_type": "stream",
          "name": "stdout",
          "text": [
            "Capitalized Words: ['Food', 'From', 'Italian', 'Indian', 'In', 'Chefs', 'Remember', 'Good', 'Try', 'Grandma']\n"
          ]
        }
      ]
    },
    {
      "cell_type": "code",
      "source": [
        "words_only_alpha = re.findall(r'\\b[a-zA-Z]+\\b', text)\n",
        "print(\"Words with only alphabets:\", words_only_alpha)\n"
      ],
      "metadata": {
        "colab": {
          "base_uri": "https://localhost:8080/"
        },
        "id": "b5vpOFo5vMAM",
        "outputId": "698cd59d-ab0e-4d74-f265-43fe90f91669"
      },
      "execution_count": 56,
      "outputs": [
        {
          "output_type": "stream",
          "name": "stdout",
          "text": [
            "Words with only alphabets: ['Food', 'brings', 'people', 'together', 'and', 'offers', 'a', 'delicious', 'way', 'to', 'explore', 'different', 'cultures', 'and', 'traditions', 'From', 'Italian', 'pizzas', 'to', 'Indian', 'curries', 'every', 'dish', 'tells', 'a', 'story', 'In', 'global', 'food', 'trends', 'shifted', 'more', 'focus', 'on', 'plant', 'based', 'diets', 'sustainability', 'Chefs', 'home', 'are', 'experimenting', 'with', 'flavors', 'sweet', 'sour', 'spicy', 'and', 'umami', 'Remember', 'Good', 'food', 'good', 'mood', 'Try', 'Grandma', 's', 'year', 'old', 'pickles', 'they', 're', 'legendary']\n"
          ]
        }
      ]
    },
    {
      "cell_type": "code",
      "source": [
        "words_starting_vowel = re.findall(r'\\b[AEIOUaeiou][a-zA-Z]*\\b', text)\n",
        "print(\"Words starting with a vowel:\", words_starting_vowel)\n"
      ],
      "metadata": {
        "colab": {
          "base_uri": "https://localhost:8080/"
        },
        "id": "iyWsTvU9vStk",
        "outputId": "8a346d7d-d8f1-4edb-ffa5-3d0aeda98317"
      },
      "execution_count": 57,
      "outputs": [
        {
          "output_type": "stream",
          "name": "stdout",
          "text": [
            "Words starting with a vowel: ['and', 'offers', 'a', 'explore', 'and', 'Italian', 'Indian', 'every', 'a', 'In', 'on', 'are', 'experimenting', 'and', 'umami', 'old']\n"
          ]
        }
      ]
    },
    {
      "cell_type": "markdown",
      "source": [
        "Q4. Custom Tokenization & Regex-based Text Cleaning\n",
        "1. Take original text from Question 1.\n",
        "2. Write a custom tokenization function that:\n",
        "a. Removes punctuation and special symbols, but keeps contractions (e.g.,\n",
        "\"isn't\" should not be split into \"is\" and \"n't\").\n",
        "b. Handles hyphenated words as a single token (e.g., \"state-of-the-art\" remains\n",
        "a single token).\n",
        "c. Tokenizes numbers separately but keeps decimal numbers intact (e.g., \"3.14\"\n",
        "should remain as is).\n",
        "3. Use Regex Substitutions (re.sub) to:\n",
        "a. Replace email addresses with '<EMAIL>' placeholder.\n",
        "b. Replace URLs with '<URL>' placeholder.\n",
        "c. Replace phone numbers (formats: 123-456-7890 or +91 9876543210) with\n",
        "'<PHONE>' placeholder."
      ],
      "metadata": {
        "id": "cBQzPjpPvlW_"
      }
    },
    {
      "cell_type": "code",
      "source": [
        "import re\n",
        "\n",
        "text = \"\"\"Food brings people together and offers a delicious way to explore different cultures and traditions.\n",
        "From Italian *pizzas* to Indian curries, every dish tells a story! In 2023, global food trends shifted—more focus on plant-based diets & sustainability.\n",
        "Chefs@home are experimenting with flavors: sweet, sour, spicy, and umami. Remember: \"Good food = good mood!\"\n",
        "Try Grandma’s 100-year-old pickles  — they’re legendary!!!\"\"\"\n",
        "\n",
        "\n",
        "# Step 1: Custom Tokenization Function\n",
        "def custom_tokenizer(text):\n",
        "    # Remove punctuation except hyphens, apostrophes (for contractions), and decimals\n",
        "    text = re.sub(r\"[^\\w\\s\\.\\-']\", '', text)\n",
        "\n",
        "    # Split into tokens\n",
        "    tokens = text.split()\n",
        "\n",
        "    return tokens\n",
        "\n",
        "# Step 2: Regex Substitution Function\n",
        "def clean_text(text):\n",
        "    # Replace email addresses with <EMAIL>\n",
        "    text = re.sub(r'\\b[\\w\\.-]+@[\\w\\.-]+\\.\\w{2,4}\\b', '<EMAIL>', text)\n",
        "\n",
        "    # Replace URLs with <URL>\n",
        "    text = re.sub(r'https?://\\S+|www\\.\\S+', '<URL>', text)\n",
        "\n",
        "    # Replace phone numbers with <PHONE>\n",
        "    text = re.sub(r'(\\+?\\d{1,3}[-\\s]?\\d{10}|\\d{3}-\\d{3}-\\d{4})', '<PHONE>', text)\n",
        "\n",
        "    return text\n",
        "\n",
        "# Step 3: Run the functions\n",
        "# 3a. First clean the text\n",
        "cleaned_text = clean_text(text)\n",
        "print(\"Cleaned Text:\\n\", cleaned_text)\n",
        "\n",
        "# 3b. Then tokenize the cleaned text\n",
        "tokens = custom_tokenizer(cleaned_text)\n",
        "print(\"\\nCustom Tokens:\\n\", tokens)\n"
      ],
      "metadata": {
        "colab": {
          "base_uri": "https://localhost:8080/"
        },
        "id": "hOkabI9BvxsT",
        "outputId": "65e695cc-9229-4c5a-b064-68f5fb681cf2"
      },
      "execution_count": 58,
      "outputs": [
        {
          "output_type": "stream",
          "name": "stdout",
          "text": [
            "Cleaned Text:\n",
            " Food brings people together and offers a delicious way to explore different cultures and traditions. \n",
            "From Italian *pizzas* to Indian curries, every dish tells a story! In 2023, global food trends shifted—more focus on plant-based diets & sustainability. \n",
            "Chefs@home are experimenting with flavors: sweet, sour, spicy, and umami. Remember: \"Good food = good mood!\" \n",
            "Try Grandma’s 100-year-old pickles  — they’re legendary!!!\n",
            "\n",
            "Custom Tokens:\n",
            " ['Food', 'brings', 'people', 'together', 'and', 'offers', 'a', 'delicious', 'way', 'to', 'explore', 'different', 'cultures', 'and', 'traditions.', 'From', 'Italian', 'pizzas', 'to', 'Indian', 'curries', 'every', 'dish', 'tells', 'a', 'story', 'In', '2023', 'global', 'food', 'trends', 'shiftedmore', 'focus', 'on', 'plant-based', 'diets', 'sustainability.', 'Chefshome', 'are', 'experimenting', 'with', 'flavors', 'sweet', 'sour', 'spicy', 'and', 'umami.', 'Remember', 'Good', 'food', 'good', 'mood', 'Try', 'Grandmas', '100-year-old', 'pickles', 'theyre', 'legendary']\n"
          ]
        }
      ]
    }
  ]
}