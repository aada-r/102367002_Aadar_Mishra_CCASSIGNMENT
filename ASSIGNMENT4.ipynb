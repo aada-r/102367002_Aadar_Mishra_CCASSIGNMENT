{
  "nbformat": 4,
  "nbformat_minor": 0,
  "metadata": {
    "colab": {
      "provenance": []
    },
    "kernelspec": {
      "name": "python3",
      "display_name": "Python 3"
    },
    "language_info": {
      "name": "python"
    }
  },
  "cells": [
    {
      "cell_type": "markdown",
      "source": [
        "### .1 Write a program to create a NumPy 1D-array with 5 elements and perform basic\n",
        "operations like: a) Addition of 2 in all the element  \n",
        "b) Multiply 3 with all the elements\n",
        "c) Divide every element by 2"
      ],
      "metadata": {
        "id": "4ksGA9R_owdk"
      }
    },
    {
      "cell_type": "code",
      "execution_count": 4,
      "metadata": {
        "id": "cplRSklCkfGb"
      },
      "outputs": [],
      "source": [
        "import numpy as np"
      ]
    },
    {
      "cell_type": "code",
      "source": [
        "x=np.array([1,2,3,4,5])"
      ],
      "metadata": {
        "id": "vRBKGtUNkgsE"
      },
      "execution_count": 5,
      "outputs": []
    },
    {
      "cell_type": "code",
      "source": [
        "print(x*2)\n"
      ],
      "metadata": {
        "colab": {
          "base_uri": "https://localhost:8080/"
        },
        "id": "_qbzvcO4kn9w",
        "outputId": "4609a131-b264-4ddf-fcb0-4b6b445576dd"
      },
      "execution_count": 6,
      "outputs": [
        {
          "output_type": "stream",
          "name": "stdout",
          "text": [
            "[ 2  4  6  8 10]\n"
          ]
        }
      ]
    },
    {
      "cell_type": "code",
      "source": [
        "print(x+2)"
      ],
      "metadata": {
        "colab": {
          "base_uri": "https://localhost:8080/"
        },
        "id": "D4cOsYoekrrh",
        "outputId": "3c4b27b9-d4cc-4ede-9b57-274011211aae"
      },
      "execution_count": 7,
      "outputs": [
        {
          "output_type": "stream",
          "name": "stdout",
          "text": [
            "[3 4 5 6 7]\n"
          ]
        }
      ]
    },
    {
      "cell_type": "code",
      "source": [
        "print(x/2)"
      ],
      "metadata": {
        "colab": {
          "base_uri": "https://localhost:8080/"
        },
        "id": "nZLEGpKBktlI",
        "outputId": "0b844d7f-9942-47d4-c0ea-aec1c1fc232b"
      },
      "execution_count": 8,
      "outputs": [
        {
          "output_type": "stream",
          "name": "stdout",
          "text": [
            "[0.5 1.  1.5 2.  2.5]\n"
          ]
        }
      ]
    },
    {
      "cell_type": "code",
      "source": [
        "print(x[::-1])"
      ],
      "metadata": {
        "colab": {
          "base_uri": "https://localhost:8080/"
        },
        "id": "SrtQ2p07lF6T",
        "outputId": "31f9d4e3-217f-4bd7-daab-2f1aa0d9e180"
      },
      "execution_count": 15,
      "outputs": [
        {
          "output_type": "stream",
          "name": "stdout",
          "text": [
            "[5 4 3 2 1]\n"
          ]
        }
      ]
    },
    {
      "cell_type": "markdown",
      "source": [
        "### Q.2 Questions on Basic NumPy Array:\n",
        "a) Reverse the NumPy array: arr = np.array([1, 2, 3, 6, 4, 5])\n",
        "b) Find the most frequent value and their indice(s) in the following arrays:\n",
        "i. x = np.array([1,2,3,4,5,1,2,1,1,1])\n",
        "ii. y = np.array([1, 1, 1, 2, 3, 4, 2, 4, 3, 3, ])\n"
      ],
      "metadata": {
        "id": "SOhdp1_ZpBPt"
      }
    },
    {
      "cell_type": "code",
      "source": [
        "\n",
        "from collections import Counter\n",
        "\n",
        "x=np.array([1,2,3,4,5,1,2,1,1,1])\n",
        "y=np.array([1, 1, 1, 2, 3, 4, 2, 4, 3, 3, ])\n",
        "\n",
        "def most_frequent(arr):\n",
        "  count=Counter(arr)\n",
        "  most_freq_val=count.most_common(1)[0][0]\n",
        "  indices=np.where(arr==most_freq_val)[0]\n",
        "  return most_freq_val,indices\n",
        "\n",
        "most_freq_val_x,indices_x=most_frequent(x)\n",
        "print(f\"Most frequent value in x:{most_freq_val_x},indices:{indices_x}\")\n",
        "\n",
        "most_freq_val_y,indices_y=most_frequent(y)\n",
        "print(f\"Most frequent value in y:{most_freq_val_y},indices:{indices_y}\")"
      ],
      "metadata": {
        "id": "LdQYN70Cnx6R",
        "outputId": "de1b94f6-8a6d-49a7-b407-4a315b7e985f",
        "colab": {
          "base_uri": "https://localhost:8080/"
        }
      },
      "execution_count": 20,
      "outputs": [
        {
          "output_type": "stream",
          "name": "stdout",
          "text": [
            "Most frequent value in x:1,indices:[0 5 7 8 9]\n",
            "Most frequent value in y:1,indices:[0 1 2]\n"
          ]
        }
      ]
    },
    {
      "cell_type": "markdown",
      "source": [
        "### 3 For the given 2-D array arr=np.array([10, 20, 30], [40, 50, 60], [70, 80, 90]), access\n",
        "elements using row and column indices as follows:\n",
        "a) Access 1st row, 2nd column  \n",
        "b) Access 3rd row, 1st column"
      ],
      "metadata": {
        "id": "vMw4NFRjpv3M"
      }
    },
    {
      "cell_type": "code",
      "source": [
        "\n",
        "import numpy as np\n",
        "arr=np.array([[10, 20, 30], [40, 50, 60], [70, 80, 90]])\n",
        "print(arr[0,1])\n",
        "print(arr[2,0])"
      ],
      "metadata": {
        "id": "YvXc2ogspt7Q",
        "outputId": "16281a45-f61b-4a0d-e1a7-6ddcbcf2c1bb",
        "colab": {
          "base_uri": "https://localhost:8080/"
        }
      },
      "execution_count": 22,
      "outputs": [
        {
          "output_type": "stream",
          "name": "stdout",
          "text": [
            "20\n",
            "70\n"
          ]
        }
      ]
    },
    {
      "cell_type": "markdown",
      "source": [
        "### Q.4 Write program to create an 1-D NumPy array named <<Your Name>> with evenly\n",
        "spaced 25 numbers from 10 to 100 using linspace(). Print the dimensions of the array,\n",
        "shape, total elements, the data type of each element and total number of bytes consumed\n",
        "by the array. Find the transpose of this array using reshape() attribute. Can we do the same\n",
        "with T attribute?"
      ],
      "metadata": {
        "id": "Mz2A5Tg2pFZU"
      }
    },
    {
      "cell_type": "code",
      "source": [
        "\n",
        "import numpy as np\n",
        "from collections import Counter\n",
        "import numpy as np\n",
        "x=np.array([1,2,3,4,5])\n",
        "print(x*2)\n",
        "print(x+2)\n",
        "print(x/2)\n",
        "print(x[::-1])\n",
        "z = np.array([1,2,3,4,5,1,2,1,1,1])\n",
        "y = np.array([1, 1, 1, 2, 3, 4, 2, 4, 3, 3, ])\n",
        "print(z)\n",
        "print(y)\n",
        "x=np.array([1,2,3,4,5,1,2,1,1,1])\n",
        "y=np.array([1, 1, 1, 2, 3, 4, 2, 4, 3, 3, ])\n",
        "def most_frequent(arr):\n",
        "  count=Counter(arr)\n",
        "  most_freq_val=count.most_common(1)[0][0]\n",
        "  indices=np.where(arr==most_freq_val)[0]\n",
        "  return most_freq_val,indices\n",
        "most_freq_val_x,indices_x=most_frequent(x)\n",
        "print(f\"Most frequent value in x:{most_freq_val_x},indices:{indices_x}\")\n",
        "most_freq_val_y,indices_y=most_frequent(y)\n",
        "print(f\"Most frequent value in y:{most_freq_val_y},indices:{indices_y}\")\n",
        "arr=np.array([[10, 20, 30], [40, 50, 60], [70, 80, 90]])\n",
        "print(arr[0,1])\n",
        "print(arr[2,0])\n",
        "Aadar=np.linspace(10,100,25)\n",
        "print(Aadar.ndim)\n",
        "print(Aadar.shape)\n",
        "print(Aadar.size)\n",
        "print(Aadar.dtype)\n",
        "print(Aadar.nbytes)\n",
        "print(Aadar.reshape(5,5))\n",
        "Aadar.T"
      ],
      "metadata": {
        "id": "QQALvCfioLt1"
      },
      "execution_count": null,
      "outputs": []
    },
    {
      "cell_type": "markdown",
      "source": [
        "### 5. Create a 2-D Array of three rows and four columns, named UCS420_<your_name>>\n",
        "with following values – 10, 20, 30, 40, 50, 60, 70, 80, 90, 15, 20, 35. Compute the mean,\n",
        "median, max, min, unique elements. Reshape the array to four rows and three columns and\n",
        "name it as reshaped_ UCS420_<your_name>>. Resize the array to two rows and three\n",
        "columns and name it as resized_ UCS420_<your_name>>."
      ],
      "metadata": {
        "id": "vi9CAYTppJU3"
      }
    },
    {
      "cell_type": "code",
      "source": [
        "\n",
        "import numpy as np\n",
        "from collections import Counter\n",
        "\n",
        "UCS420_Aadar=np.array([[10,20,30,40],[50,60,70,80],[90,15,20,35]])\n",
        "mean=np.mean(UCS420_Aadar)\n",
        "median=np.median(UCS420_Aadar)\n",
        "max_=np.max(UCS420_Aadar)\n",
        "min_=np.min(UCS420_Aadar)\n",
        "unique_elements=np.unique(UCS420_Aadar)\n",
        "print(\"Mean:\",mean)\n",
        "print(\"Median:\",median)\n",
        "print(\"Max:\",max_)\n",
        "print(\"Min:\",min_)\n",
        "print(\"Unique elements:\",unique_elements)\n",
        "reshaped_UCS420_Aadar=UCS420_Aadar.reshape(4,3)\n",
        "print(\"Reshaped array:\\n\",reshaped_UCS420_Aadar)\n",
        "resized_UCS420_Aadar=np.resize(UCS420_Aadar,(2,3))\n",
        "print(\"Resized array:\\n\",resized_UCS420_Aadar)"
      ],
      "metadata": {
        "id": "OlJ530sroIck"
      },
      "execution_count": null,
      "outputs": []
    }
  ]
}