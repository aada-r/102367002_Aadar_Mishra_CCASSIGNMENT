{
  "nbformat": 4,
  "nbformat_minor": 0,
  "metadata": {
    "colab": {
      "provenance": []
    },
    "kernelspec": {
      "name": "python3",
      "display_name": "Python 3"
    },
    "language_info": {
      "name": "python"
    }
  },
  "cells": [
    {
      "cell_type": "markdown",
      "source": [
        "## For Random state=55"
      ],
      "metadata": {
        "id": "fvdvJQ8QDKzr"
      }
    },
    {
      "cell_type": "code",
      "source": [
        "# Import necessary libraries\n",
        "import numpy as np\n",
        "from sklearn import datasets\n",
        "from sklearn.model_selection import train_test_split\n",
        "from sklearn.linear_model import LogisticRegression\n",
        "from sklearn.preprocessing import StandardScaler\n",
        "from sklearn.metrics import accuracy_score, confusion_matrix, classification_report\n",
        "\n",
        "# 1. Load the Iris dataset\n",
        "iris = datasets.load_iris()\n",
        "X = iris.data  # Features\n",
        "y = iris.target  # Labels (0, 1, 2 corresponding to Setosa, Versicolor, and Virginica)\n",
        "\n",
        "# 2. Split the dataset into training and testing sets (80%-20%)\n",
        "X_train, X_test, y_train, y_test = train_test_split(X, y, test_size=0.2, random_state=55, stratify=y)\n",
        "\n",
        "# 3. Feature Scaling (Standardization)\n",
        "# Logistic Regression works better when features are scaled\n",
        "scaler = StandardScaler()\n",
        "X_train_scaled = scaler.fit_transform(X_train)  # Fit on training data and transform\n",
        "X_test_scaled = scaler.transform(X_test)  # Only transform the test data\n",
        "\n",
        "# 4. Train the Logistic Regression model\n",
        "log_reg = LogisticRegression(max_iter=200, multi_class='ovr', random_state=42)\n",
        "log_reg.fit(X_train_scaled, y_train)  # Train the model\n",
        "\n",
        "# 5. Make predictions\n",
        "y_pred = log_reg.predict(X_test_scaled)\n",
        "\n",
        "# 6. Evaluate the model's performance\n",
        "accuracy = accuracy_score(y_test, y_pred)  # Accuracy score\n",
        "conf_matrix = confusion_matrix(y_test, y_pred)  # Confusion matrix\n",
        "class_report = classification_report(y_test, y_pred)  # Detailed classification report\n",
        "\n",
        "# Print results\n",
        "print(f\"Accuracy: {accuracy * 100:.2f}%\")\n",
        "print(\"Confusion Matrix:\")\n",
        "print(conf_matrix)\n",
        "print(\"Classification Report:\")\n",
        "print(class_report)\n"
      ],
      "metadata": {
        "colab": {
          "base_uri": "https://localhost:8080/"
        },
        "id": "osOGRrIu-wBO",
        "outputId": "ccf42cab-0826-400c-f182-0c8a4cbd90ad"
      },
      "execution_count": 21,
      "outputs": [
        {
          "output_type": "stream",
          "name": "stdout",
          "text": [
            "Accuracy: 100.00%\n",
            "Confusion Matrix:\n",
            "[[10  0  0]\n",
            " [ 0 10  0]\n",
            " [ 0  0 10]]\n",
            "Classification Report:\n",
            "              precision    recall  f1-score   support\n",
            "\n",
            "           0       1.00      1.00      1.00        10\n",
            "           1       1.00      1.00      1.00        10\n",
            "           2       1.00      1.00      1.00        10\n",
            "\n",
            "    accuracy                           1.00        30\n",
            "   macro avg       1.00      1.00      1.00        30\n",
            "weighted avg       1.00      1.00      1.00        30\n",
            "\n"
          ]
        },
        {
          "output_type": "stream",
          "name": "stderr",
          "text": [
            "/usr/local/lib/python3.11/dist-packages/sklearn/linear_model/_logistic.py:1256: FutureWarning: 'multi_class' was deprecated in version 1.5 and will be removed in 1.7. Use OneVsRestClassifier(LogisticRegression(..)) instead. Leave it to its default value to avoid this warning.\n",
            "  warnings.warn(\n"
          ]
        }
      ]
    },
    {
      "cell_type": "markdown",
      "source": [
        "## For Random state=40"
      ],
      "metadata": {
        "id": "kRefabCSDRtC"
      }
    },
    {
      "cell_type": "code",
      "source": [
        "# Import necessary libraries\n",
        "import numpy as np\n",
        "from sklearn import datasets\n",
        "from sklearn.model_selection import train_test_split\n",
        "from sklearn.linear_model import LogisticRegression\n",
        "from sklearn.preprocessing import StandardScaler\n",
        "from sklearn.metrics import accuracy_score, confusion_matrix, classification_report\n",
        "\n",
        "# 1. Load the Iris dataset\n",
        "iris = datasets.load_iris()\n",
        "X = iris.data  # Features\n",
        "y = iris.target  # Labels (0, 1, 2 corresponding to Setosa, Versicolor, and Virginica)\n",
        "\n",
        "# 2. Split the dataset into training and testing sets (80%-20%)\n",
        "X_train, X_test, y_train, y_test = train_test_split(X, y, test_size=0.2, random_state=40, stratify=y)\n",
        "\n",
        "# 3. Feature Scaling (Standardization)\n",
        "# Logistic Regression works better when features are scaled\n",
        "scaler = StandardScaler()\n",
        "X_train_scaled = scaler.fit_transform(X_train)  # Fit on training data and transform\n",
        "X_test_scaled = scaler.transform(X_test)  # Only transform the test data\n",
        "\n",
        "# 4. Train the Logistic Regression model\n",
        "log_reg = LogisticRegression(max_iter=200, multi_class='ovr', random_state=42)\n",
        "log_reg.fit(X_train_scaled, y_train)  # Train the model\n",
        "\n",
        "# 5. Make predictions\n",
        "y_pred = log_reg.predict(X_test_scaled)\n",
        "\n",
        "# 6. Evaluate the model's performance\n",
        "accuracy = accuracy_score(y_test, y_pred)  # Accuracy score\n",
        "conf_matrix = confusion_matrix(y_test, y_pred)  # Confusion matrix\n",
        "class_report = classification_report(y_test, y_pred)  # Detailed classification report\n",
        "\n",
        "# Print results\n",
        "print(f\"Accuracy: {accuracy * 100:.2f}%\")\n",
        "print(\"Confusion Matrix:\")\n",
        "print(conf_matrix)\n",
        "print(\"Classification Report:\")\n",
        "print(class_report)\n"
      ],
      "metadata": {
        "colab": {
          "base_uri": "https://localhost:8080/"
        },
        "id": "CqgwP7pEBCk9",
        "outputId": "d6a1cbcd-71c3-40d9-859e-c830b496e5f3"
      },
      "execution_count": 22,
      "outputs": [
        {
          "output_type": "stream",
          "name": "stdout",
          "text": [
            "Accuracy: 86.67%\n",
            "Confusion Matrix:\n",
            "[[10  0  0]\n",
            " [ 0  8  2]\n",
            " [ 0  2  8]]\n",
            "Classification Report:\n",
            "              precision    recall  f1-score   support\n",
            "\n",
            "           0       1.00      1.00      1.00        10\n",
            "           1       0.80      0.80      0.80        10\n",
            "           2       0.80      0.80      0.80        10\n",
            "\n",
            "    accuracy                           0.87        30\n",
            "   macro avg       0.87      0.87      0.87        30\n",
            "weighted avg       0.87      0.87      0.87        30\n",
            "\n"
          ]
        },
        {
          "output_type": "stream",
          "name": "stderr",
          "text": [
            "/usr/local/lib/python3.11/dist-packages/sklearn/linear_model/_logistic.py:1256: FutureWarning: 'multi_class' was deprecated in version 1.5 and will be removed in 1.7. Use OneVsRestClassifier(LogisticRegression(..)) instead. Leave it to its default value to avoid this warning.\n",
            "  warnings.warn(\n"
          ]
        }
      ]
    }
  ]
}