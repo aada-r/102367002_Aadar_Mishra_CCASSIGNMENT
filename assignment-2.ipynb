{
 "cells": [
  {
   "cell_type": "markdown",
   "metadata": {},
   "source": [
    "# Assignment 2"
   ]
  },
  {
   "cell_type": "markdown",
   "metadata": {},
   "source": [
    "### 1. List Operations"
   ]
  },
  {
   "cell_type": "code",
   "execution_count": 10,
   "metadata": {},
   "outputs": [
    {
     "name": "stdout",
     "output_type": "stream",
     "text": [
      "Ascending: [20, 40, 50, 60, 70, 80, 200, 300]\n",
      "Descending: [300, 200, 80, 70, 60, 50, 40, 20]\n"
     ]
    }
   ],
   "source": [
    "\n",
    "l=[10,20,30,40,50,60,70,80]\n",
    "l.append(200)\n",
    "l.append(300)\n",
    "l.remove(10)\n",
    "l.remove(30)\n",
    "l.sort()\n",
    "print(\"ascending:\",l)\n",
    "l.sort(reverse=True)\n",
    "print(\"descending:\",l)\n",
    "\n",
    "\n",
    "\n"
   ]
  },
  {
   "cell_type": "markdown",
   "metadata": {},
   "source": [
    "### 2.Tuple Operations"
   ]
  },
  {
   "cell_type": "code",
   "execution_count": 2,
   "metadata": {},
   "outputs": [
    {
     "name": "stdout",
     "output_type": "stream",
     "text": [
      "Highest score: 92 Index: 5\n",
      "Lowest score: 45 Count: 2\n",
      "Reversed list: [45, 58, 92, 89, 45.4, 76, 89.5, 45]\n",
      "First occurrence index of 76 : 2\n"
     ]
    }
   ],
   "source": [
    "sc=(45,89.5,76,45.4,89,92,58,45)\n",
    "h=max(sc)\n",
    "print(\"highest:\",h,\"index:\",sc.index(h))\n",
    "l=min(sc)\n",
    "cnt=sc.count(l)\n",
    "print(\"lowest:\",l,\"count:\",cnt)\n",
    "rev=list(sc[::-1])\n",
    "print(\"reversed:\",rev)\n",
    "x=76\n",
    "if x in sc:\n",
    "    print(\"index of\",x,\":\",sc.index(x))\n",
    "else:\n",
    "    print(x,\"not found\")\n"
   ]
  },
  {
   "cell_type": "markdown",
   "metadata": {},
   "source": [
    "### 3. Random Numbers and Classification"
   ]
  },
  {
   "cell_type": "code",
   "execution_count": 3,
   "metadata": {},
   "outputs": [
    {
     "name": "stdout",
     "output_type": "stream",
     "text": [
      "Odd count: 48\n",
      "Odd numbers: [727, 463, 585, 167, 867, 165, 223, 573, 261, 153, 119, 679, 757, 179, 215, 517, 587, 105, 525, 429, 457, 107, 401, 729, 847, 391, 143, 531, 393, 683, 185, 841, 373, 371, 249, 209, 595, 571, 749, 327, 133, 775, 751, 239, 295, 355, 373, 261]\n",
      "Even count: 52\n",
      "Even numbers: [876, 408, 584, 156, 114, 126, 442, 778, 230, 556, 226, 730, 328, 840, 290, 460, 164, 806, 766, 216, 134, 450, 744, 368, 160, 744, 194, 560, 500, 620, 288, 216, 526, 874, 326, 718, 644, 232, 800, 492, 492, 712, 468, 306, 232, 542, 852, 408, 328, 898, 336, 690]\n",
      "Prime count: 16\n",
      "Prime numbers: [727, 463, 167, 223, 757, 179, 587, 457, 107, 401, 683, 373, 571, 751, 239, 373]\n"
     ]
    }
   ],
   "source": [
    "import random\n",
    "n=[random.randint(100,900) for i in range(100)]\n",
    "o=[i for i in n if i%2!=0]\n",
    "print(\"odd:\",o)\n",
    "e=[i for i in n if i%2==0]\n",
    "print(\"even:\",e)\n",
    "p=[]\n",
    "for i in n:\n",
    "    if i>1:\n",
    "        f=1\n",
    "        for j in range(2,i):\n",
    "            if i%j==0:\n",
    "                f=0\n",
    "                break\n",
    "        if f==1:\n",
    "            p.append(i)\n",
    "print(\"prime:\",p)\n"
   ]
  },
  {
   "cell_type": "markdown",
   "metadata": {},
   "source": [
    "### 4. Set Operations"
   ]
  },
  {
   "cell_type": "code",
   "execution_count": 4,
   "metadata": {},
   "outputs": [
    {
     "name": "stdout",
     "output_type": "stream",
     "text": [
      "Unique scores: {34, 45, 78, 23, 56, 90}\n",
      "Common scores: {90, 78}\n",
      "Exclusive scores: {34, 45, 23, 56}\n",
      "Is A a subset of B? False\n",
      "Is B a superset of A? False\n",
      "Score not in A\n"
     ]
    }
   ],
   "source": [
    "a={34,56,78,90}\n",
    "b={78,45,90,23}\n",
    "print(\"unique:\",a|b)\n",
    "print(\"common:\",a&b)\n",
    "print(\"exclusive:\",a^b)\n",
    "print(\"is a subset of b:\",a<=b)\n",
    "print(\"is b superset of a:\",b>=a)\n",
    "x=int(input(\"enter value to remove:\"))\n",
    "if x in a:\n",
    "    a.remove(x)\n",
    "    print(\"updated a:\",a)\n",
    "else:\n",
    "    print(\"not in a\")\n"
   ]
  },
  {
   "cell_type": "markdown",
   "metadata": {},
   "source": [
    "### 5. Random Numbers and Classification with Basic Logic"
   ]
  },
  {
   "cell_type": "code",
   "execution_count": 7,
   "metadata": {},
   "outputs": [
    {
     "name": "stdout",
     "output_type": "stream",
     "text": [
      "Odd count: 52\n",
      "Odd numbers: [643, 397, 327, 243, 199, 327, 717, 523, 531, 243, 341, 271, 503, 143, 351, 161, 307, 675, 863, 689, 269, 549, 195, 429, 383, 303, 469, 767, 553, 701, 881, 663, 813, 495, 199, 275, 331, 543, 501, 333, 721, 729, 711, 559, 321, 481, 575, 229, 243, 103, 335, 871]\n",
      "Even count: 48\n",
      "Even numbers: [724, 726, 492, 700, 336, 198, 834, 702, 336, 260, 698, 180, 674, 130, 604, 896, 544, 236, 774, 742, 870, 632, 238, 336, 558, 104, 180, 400, 860, 112, 376, 784, 326, 154, 334, 278, 566, 226, 342, 172, 246, 836, 456, 334, 576, 600, 104, 332]\n",
      "Prime count: 16\n",
      "Prime numbers: [643, 397, 199, 523, 271, 503, 307, 863, 269, 383, 701, 881, 199, 331, 229, 103]\n"
     ]
    }
   ],
   "source": [
    "import random\n",
    "nums=[]\n",
    "for i in range(100):\n",
    "    nums.append(random.randint(100,900))\n",
    "odds=[]\n",
    "for n in nums:\n",
    "    if n%2!=0:\n",
    "        odds.append(n)\n",
    "print(\"odd count:\",len(odds))\n",
    "print(\"odd numbers:\",odds)\n",
    "evens=[]\n",
    "for n in nums:\n",
    "    if n%2==0:\n",
    "        evens.append(n)\n",
    "print(\"even count:\",len(evens))\n",
    "print(\"even numbers:\",evens)\n",
    "primes=[]\n",
    "for n in nums:\n",
    "    if n>1:\n",
    "        prime=True\n",
    "        for i in range(2,int(n**0.5)+1):\n",
    "            if n%i==0:\n",
    "                prime=False\n",
    "                break\n",
    "        if prime:\n",
    "            primes.append(n)\n",
    "print(\"prime count:\",len(primes))\n",
    "print(\"prime numbers:\",primes)\n"
   ]
  }
 ],
 "metadata": {
  "kernelspec": {
   "display_name": "Python 3",
   "language": "python",
   "name": "python3"
  },
  "language_info": {
   "codemirror_mode": {
    "name": "ipython",
    "version": 3
   },
   "file_extension": ".py",
   "mimetype": "text/x-python",
   "name": "python",
   "nbconvert_exporter": "python",
   "pygments_lexer": "ipython3",
   "version": "3.13.1"
  }
 },
 "nbformat": 4,
 "nbformat_minor": 2
}
